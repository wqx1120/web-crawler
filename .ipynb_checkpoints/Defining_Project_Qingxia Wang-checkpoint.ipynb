{
 "cells": [
  {
   "cell_type": "markdown",
   "metadata": {},
   "source": [
    "**Instructions**\n",
    "1. Make sure your project is related to the business of the companies you are interested in.\n",
    "2. The project should not only be helpful to the employer's business, but also compatible with the existing tools they are using.\n",
    "2. Don’t spend time in generating brand-new ideas. Using mature methods to solve specific problem is more preferred.\n",
    "3. Don’t try to build a perfect project. Start with a Minimum Viable Product. Resources are always limited."
   ]
  },
  {
   "cell_type": "markdown",
   "metadata": {},
   "source": [
    "<font color='red'>**Question:**</font> What is the problem you would like to solve? Why is it important?"
   ]
  },
  {
   "cell_type": "markdown",
   "metadata": {},
   "source": [
    "**Example**: In direct mail marketing, tens of millions of mails are sent to potential customers. Only a very small fraction of the mail receivers respond. Most of mails are thrown into recycle bins directly. If we are able to accurately identify people who will possibly respond. We can save money in direct mail marketing or accquire more customers with given resources."
   ]
  },
  {
   "cell_type": "markdown",
   "metadata": {},
   "source": [
    "The rise of fraudulent online bank account applications poses a significant threat to both financial institutions and their customers. Fraudulent accounts can result in substantial financial losses for banks due to unauthorized transactions and expose customers to identity theft.\n",
    "\n",
    "Identifying fraudulent online bank account applications is critical for protecting financial institutions and their customers. By employing Machine Learning methods, we can automate the detection of suspicious applications, improving efficiency and reducing workload. This allows for quicker processing of legitimate applications, enhancing customer experience, and reduces the need for costly manual investigations, ultimately saving the bank money. "
   ]
  },
  {
   "cell_type": "markdown",
   "metadata": {},
   "source": [
    "<font color='red'>**Question:**</font> How to measure the business value of your solution? What is the benchmark?"
   ]
  },
  {
   "cell_type": "markdown",
   "metadata": {},
   "source": [
    "**Example**: If our goal is saving money in direct mail marketing, the benchmark could be the current situtation in which we send mail to all the people in an area. Let's assume there are a million families in this area, only 0.1% of the people respond, and each mail costs 10 cents. If our model can successfully filter out half of the people who won't respond, we can save 50,000 dollars for each time."
   ]
  },
  {
   "cell_type": "markdown",
   "metadata": {},
   "source": [
    "Losses Reduction: Assume the bank processes 1 million applications yearly with 1% fraud rate (10,000 fraud cases). Each fraudulent account incurs a $\\$5,000$ loss, tatalling $\\$50$ million annually. If the model reduces fraudulent accounts by 50%, the savings would be $\\$25$ million annually.\n",
    "\n",
    "Anual Review Reduction: If each review costs $ \\$50 $ and the model reduces reviews by 20,000, the savings are $\\$1$ million.\n",
    "\n",
    "Benchmark: Current fraud detection system accuracy and cost."
   ]
  },
  {
   "cell_type": "markdown",
   "metadata": {},
   "source": [
    "<font color='red'>**Question:**</font> What are the metrics you will use? Why?"
   ]
  },
  {
   "cell_type": "markdown",
   "metadata": {},
   "source": [
    "**Example**: We can use AUC-ROC for model training. We will use precision and recall to measure our models, keep recall close to 100%, and maximize precision at the same time. If we can't keep recall as 100%, we need to consider the value of each customer and calculate the loss."
   ]
  },
  {
   "cell_type": "markdown",
   "metadata": {},
   "source": [
    "We can use ROC-AUC to measure the model's ability to distinguish between fraudulent and legitimate applications across all threshold settings. We alse use precision to ensure the flagged applications are indeed fraudulent, reducing false positives. In addition, using recall ensures most fraudulent applications are detected, minimizing false negatives. "
   ]
  },
  {
   "cell_type": "markdown",
   "metadata": {},
   "source": [
    "<font color='red'>**Question:**</font> What data do you need? How will you get the data?"
   ]
  },
  {
   "cell_type": "markdown",
   "metadata": {},
   "source": [
    "**Example**: Direct mail marketing data is very hard to get. So it is not suitable to be a keystone project. Make sure you are able to get the data you need before you decide to work on a project. Here are some sources to get data:  \n",
    "1. House price data from Zillow, rent price from Craigslist, resteraunt review from Yelp, product review from Amazon, etc.\n",
    "2. Some companies provide APIs like Twitter (https://developer.twitter.com/en/docs)\n",
    "3. Quite some datasets are available on Kaggle (https://www.kaggle.com/datasets)"
   ]
  },
  {
   "cell_type": "markdown",
   "metadata": {},
   "source": [
    "We need the data to be well-structured, publicly available and suitable for building and evaluating fraud detection models. The target variable should be a binary variable with values 1 and 0 indicating fraudulent or legitimate, respecitvely.\n",
    "\n",
    "We conducted a search on Kaggle and APIs for datasets related to fraud detection, analyzed multiple datasets and selected the one that best fits our interest and project requirements."
   ]
  },
  {
   "cell_type": "markdown",
   "metadata": {},
   "source": [
    "<font color='red'>**Question:**</font> What algorithms will you choose for this project? Why?"
   ]
  },
  {
   "cell_type": "markdown",
   "metadata": {},
   "source": [
    "**Example**: We will use Random Forest as a benchmark algorithm, because it is very stable and able to handle nonlinear relationship between features and target. But eventually, we will use Logistic Regression with created features, because we need to keep the model interpretable to communicate with the marketing team."
   ]
  },
  {
   "cell_type": "markdown",
   "metadata": {},
   "source": [
    "We will use Random Forest, Logistic Regression, and XGBoost. That is because Random Forest provides a strong benchmark due to its stability and ability to handle non-linear relationships between features and the target variable. Logistic Regression ensures interpretability, making it easier to communicate results and decision-making processes with collaborating teams. Lastly, we use XGBoost for its excellent predictive performance and efficiency. It includes regularization to prevent overfitting and handles values well, making it a robust choice for this high-stakes scenario."
   ]
  },
  {
   "cell_type": "markdown",
   "metadata": {},
   "source": [
    "<font color='red'>**Question:**</font> What will be the input and output?"
   ]
  },
  {
   "cell_type": "markdown",
   "metadata": {},
   "source": [
    "**Example**: The input would be the information of people (if available) such as zipcode, household income, age, etc. The output will be 1 (will respond) or 0 (won't respond)."
   ]
  },
  {
   "cell_type": "markdown",
   "metadata": {},
   "source": [
    "Each instance in the dataset is a online bank account opening application, including the information about the individuals who apply for an online bank account. These information comprises income, payment_type, customer_age and other relevant details, which are shown below:\n",
    "\n",
    "       'income', 'name_email_similarity',\n",
    "       'prev_address_months_count', 'current_address_months_count',\n",
    "       'customer_age', 'days_since_request', 'intended_balcon_amount',\n",
    "       'payment_type', 'zip_count_4w', 'velocity_6h', 'velocity_24h',\n",
    "       'velocity_4w', 'bank_branch_count_8w',\n",
    "       'date_of_birth_distinct_emails_4w', 'employment_status',\n",
    "       'credit_risk_score', 'email_is_free', 'housing_status',\n",
    "       'phone_home_valid', 'phone_mobile_valid', 'bank_months_count',\n",
    "       'has_other_cards', 'proposed_credit_limit', 'foreign_request', 'source',\n",
    "       'session_length_in_minutes', 'device_os', 'keep_alive_session',\n",
    "       'device_distinct_emails_8w', 'device_fraud_count', 'month'\n",
    "\n",
    "\n",
    "\n",
    "The output is a binary value: 1 indicates the application is fraudulent and rejected, and 0 indicates the application is legitimate and accepted."
   ]
  },
  {
   "cell_type": "code",
   "execution_count": null,
   "metadata": {},
   "outputs": [],
   "source": []
  }
 ],
 "metadata": {
  "kernelspec": {
   "display_name": "Python 3 (ipykernel)",
   "language": "python",
   "name": "python3"
  },
  "language_info": {
   "codemirror_mode": {
    "name": "ipython",
    "version": 3
   },
   "file_extension": ".py",
   "mimetype": "text/x-python",
   "name": "python",
   "nbconvert_exporter": "python",
   "pygments_lexer": "ipython3",
   "version": "3.9.13"
  }
 },
 "nbformat": 4,
 "nbformat_minor": 2
}
