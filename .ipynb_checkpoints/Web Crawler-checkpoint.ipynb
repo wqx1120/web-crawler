{
 "cells": [
  {
   "cell_type": "code",
   "execution_count": 2,
   "id": "5c681515",
   "metadata": {},
   "outputs": [
    {
     "name": "stdout",
     "output_type": "stream",
     "text": [
      "Scraping completed and population data saved to Wikipedia_population.csv\n"
     ]
    }
   ],
   "source": [
    "import requests\n",
    "from bs4 import BeautifulSoup\n",
    "import csv\n",
    "\n",
    "url = 'https://en.wikipedia.org/wiki/List_of_countries_and_dependencies_by_population'  # URL for population data\n",
    "\n",
    "# Send a GET request to the URL\n",
    "response = requests.get(url)\n",
    "\n",
    "# Parse the HTML content using BeautifulSoup\n",
    "soup = BeautifulSoup(response.content, 'html.parser')\n",
    "\n",
    "# Find the table containing the data (adjust selectors as needed)\n",
    "table = soup.find('table', class_='wikitable')\n",
    "\n",
    "# Initialize lists to store scraped data\n",
    "data = []\n",
    "\n",
    "# Extract data from each row in the table\n",
    "rows = table.find_all('tr')[1:]  # Skip header row\n",
    "\n",
    "for row in rows:\n",
    "    columns = row.find_all('td')\n",
    "    if len(columns) >= 2:\n",
    "        country = columns[1].get_text(strip=True)\n",
    "        population = columns[2].get_text(strip=True)\n",
    "        \n",
    "        # Store data in a dictionary\n",
    "        data.append({'Country': country, 'Population': population})\n",
    "\n",
    "# Save the scraped data to a CSV file\n",
    "csv_filename = 'Wikipedia_population.csv'\n",
    "try:\n",
    "    with open(csv_filename, 'w', newline='', encoding='utf-8') as file:\n",
    "        writer = csv.DictWriter(file, fieldnames=['Country', 'Population'])\n",
    "        writer.writeheader()\n",
    "        writer.writerows(data)\n",
    "    print(f\"Scraping completed and population data saved to {csv_filename}\")\n",
    "except IOError:\n",
    "    print(f\"Error: Could not write to {csv_filename}\")\n"
   ]
  },
  {
   "cell_type": "code",
   "execution_count": 1,
   "id": "bdf7564f",
   "metadata": {},
   "outputs": [
    {
     "name": "stdout",
     "output_type": "stream",
     "text": [
      "Scraping completed and data saved to Wikipedia_capitals.csv\n"
     ]
    }
   ],
   "source": [
    "import requests\n",
    "from bs4 import BeautifulSoup\n",
    "import csv\n",
    "\n",
    "url = 'https://en.wikipedia.org/wiki/List_of_national_capitals_by_population'  # Example URL for list of capitals\n",
    "\n",
    "# Send a GET request to the URL\n",
    "response = requests.get(url)\n",
    "\n",
    "# Parse the HTML content using BeautifulSoup\n",
    "soup = BeautifulSoup(response.content, 'html.parser')\n",
    "\n",
    "# Find the table containing the data (adjust selectors as needed)\n",
    "table = soup.find('table', class_='wikitable')\n",
    "\n",
    "# Initialize lists to store scraped data\n",
    "data = []\n",
    "\n",
    "# Extract data from each row in the table\n",
    "rows = table.find_all('tr')[1:]  # Skip header row\n",
    "\n",
    "for row in rows:\n",
    "    columns = row.find_all('td')\n",
    "    if len(columns) >= 2:\n",
    "        country = columns[0].get_text(strip=True)\n",
    "        capital = columns[1].get_text(strip=True)\n",
    "        \n",
    "        # Store data in a dictionary\n",
    "        data.append({'Country': country, 'Capital': capital})\n",
    "\n",
    "# Save the scraped data to a CSV file\n",
    "csv_filename = 'Wikipedia_capitals.csv'\n",
    "try:\n",
    "    with open(csv_filename, 'w', newline='', encoding='utf-8') as file:\n",
    "        writer = csv.DictWriter(file, fieldnames=['Country', 'Capital'])\n",
    "        writer.writeheader()\n",
    "        writer.writerows(data)\n",
    "    print(f\"Scraping completed and data saved to {csv_filename}\")\n",
    "except IOError:\n",
    "    print(f\"Error: Could not write to {csv_filename}\")\n"
   ]
  },
  {
   "cell_type": "code",
   "execution_count": 3,
   "id": "b1a32e6d",
   "metadata": {},
   "outputs": [
    {
     "name": "stdout",
     "output_type": "stream",
     "text": [
      "Scraping completed and GDP data saved to Wikipedia_GDP.csv\n"
     ]
    }
   ],
   "source": [
    "import requests\n",
    "from bs4 import BeautifulSoup\n",
    "import csv\n",
    "\n",
    "url = 'https://en.wikipedia.org/wiki/List_of_countries_by_GDP_(nominal)'  # URL for GDP data\n",
    "\n",
    "# Send a GET request to the URL\n",
    "response = requests.get(url)\n",
    "\n",
    "# Parse the HTML content using BeautifulSoup\n",
    "soup = BeautifulSoup(response.content, 'html.parser')\n",
    "\n",
    "# Find the table containing the data (adjust selectors as needed)\n",
    "table = soup.find('table', class_='wikitable')\n",
    "\n",
    "# Initialize lists to store scraped data\n",
    "data = []\n",
    "\n",
    "# Extract data from each row in the table\n",
    "rows = table.find_all('tr')[1:]  # Skip header row\n",
    "\n",
    "for row in rows:\n",
    "    columns = row.find_all('td')\n",
    "    if len(columns) >= 3:\n",
    "        rank = columns[0].get_text(strip=True)\n",
    "        country = columns[1].get_text(strip=True)\n",
    "        gdp = columns[2].get_text(strip=True)\n",
    "        \n",
    "        # Store data in a dictionary\n",
    "        data.append({'Rank': rank, 'Country': country, 'GDP': gdp})\n",
    "\n",
    "# Save the scraped data to a CSV file\n",
    "csv_filename = 'Wikipedia_GDP.csv'\n",
    "try:\n",
    "    with open(csv_filename, 'w', newline='', encoding='utf-8') as file:\n",
    "        writer = csv.DictWriter(file, fieldnames=['Rank', 'Country', 'GDP'])\n",
    "        writer.writeheader()\n",
    "        writer.writerows(data)\n",
    "    print(f\"Scraping completed and GDP data saved to {csv_filename}\")\n",
    "except IOError:\n",
    "    print(f\"Error: Could not write to {csv_filename}\")\n"
   ]
  },
  {
   "cell_type": "code",
   "execution_count": null,
   "id": "a5c674fb",
   "metadata": {},
   "outputs": [],
   "source": []
  },
  {
   "cell_type": "code",
   "execution_count": null,
   "id": "9d7edeb3",
   "metadata": {},
   "outputs": [],
   "source": []
  },
  {
   "cell_type": "code",
   "execution_count": null,
   "id": "b0bf2878",
   "metadata": {},
   "outputs": [],
   "source": []
  },
  {
   "cell_type": "code",
   "execution_count": null,
   "id": "d9ebfe83",
   "metadata": {},
   "outputs": [],
   "source": []
  },
  {
   "cell_type": "code",
   "execution_count": null,
   "id": "93b3cdd2",
   "metadata": {},
   "outputs": [],
   "source": []
  },
  {
   "cell_type": "code",
   "execution_count": null,
   "id": "e899ae3e",
   "metadata": {},
   "outputs": [],
   "source": []
  },
  {
   "cell_type": "code",
   "execution_count": null,
   "id": "3ff4cec4",
   "metadata": {},
   "outputs": [],
   "source": []
  },
  {
   "cell_type": "code",
   "execution_count": null,
   "id": "44a8691e",
   "metadata": {},
   "outputs": [],
   "source": []
  },
  {
   "cell_type": "code",
   "execution_count": null,
   "id": "a0afdf79",
   "metadata": {},
   "outputs": [],
   "source": []
  },
  {
   "cell_type": "code",
   "execution_count": null,
   "id": "a35becdb",
   "metadata": {},
   "outputs": [],
   "source": []
  }
 ],
 "metadata": {
  "kernelspec": {
   "display_name": "Python 3 (ipykernel)",
   "language": "python",
   "name": "python3"
  },
  "language_info": {
   "codemirror_mode": {
    "name": "ipython",
    "version": 3
   },
   "file_extension": ".py",
   "mimetype": "text/x-python",
   "name": "python",
   "nbconvert_exporter": "python",
   "pygments_lexer": "ipython3",
   "version": "3.11.6"
  },
  "toc": {
   "base_numbering": 1,
   "nav_menu": {},
   "number_sections": true,
   "sideBar": true,
   "skip_h1_title": false,
   "title_cell": "Table of Contents",
   "title_sidebar": "Contents",
   "toc_cell": false,
   "toc_position": {},
   "toc_section_display": true,
   "toc_window_display": false
  }
 },
 "nbformat": 4,
 "nbformat_minor": 5
}
